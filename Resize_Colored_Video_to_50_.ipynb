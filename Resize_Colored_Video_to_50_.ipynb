{
  "nbformat": 4,
  "nbformat_minor": 0,
  "metadata": {
    "colab": {
      "provenance": [],
      "authorship_tag": "ABX9TyNVFE9cdrtpikBJn9byrbfg",
      "include_colab_link": true
    },
    "kernelspec": {
      "name": "python3",
      "display_name": "Python 3"
    },
    "language_info": {
      "name": "python"
    }
  },
  "cells": [
    {
      "cell_type": "markdown",
      "metadata": {
        "id": "view-in-github",
        "colab_type": "text"
      },
      "source": [
        "<a href=\"https://colab.research.google.com/github/Arshnoor7/Mini-Project-Resize-Colored-Video/blob/main/Resize_Colored_Video_to_50_.ipynb\" target=\"_parent\"><img src=\"https://colab.research.google.com/assets/colab-badge.svg\" alt=\"Open In Colab\"/></a>"
      ]
    },
    {
      "cell_type": "code",
      "execution_count": 1,
      "metadata": {
        "colab": {
          "base_uri": "https://localhost:8080/"
        },
        "id": "M35r8MlW2Wgj",
        "outputId": "e37329d3-765c-4158-e788-9a505460c948"
      },
      "outputs": [
        {
          "output_type": "stream",
          "name": "stdout",
          "text": [
            "Looking in indexes: https://pypi.org/simple, https://us-python.pkg.dev/colab-wheels/public/simple/\n",
            "Requirement already satisfied: opencv-python in /usr/local/lib/python3.10/dist-packages (4.7.0.72)\n",
            "Requirement already satisfied: numpy>=1.21.2 in /usr/local/lib/python3.10/dist-packages (from opencv-python) (1.22.4)\n"
          ]
        }
      ],
      "source": [
        "!pip install opencv-python"
      ]
    },
    {
      "cell_type": "code",
      "source": [
        "import cv2\n",
        "\n",
        "# Open the video file\n",
        "video_path = '/content/videoplayback.mp4'\n",
        "video = cv2.VideoCapture(video_path)\n",
        "\n",
        "# Get the original video's properties\n",
        "fps = video.get(cv2.CAP_PROP_FPS)\n",
        "width = int(video.get(cv2.CAP_PROP_FRAME_WIDTH))\n",
        "height = int(video.get(cv2.CAP_PROP_FRAME_HEIGHT))\n",
        "\n",
        "# Calculate the new dimensions for resizing (50% of original size)\n",
        "new_width = int(width * 0.5)\n",
        "new_height = int(height * 0.5)\n",
        "\n",
        "# Define the output video writer\n",
        "output_path = 'output_video.mp4'\n",
        "output_video = cv2.VideoWriter(output_path, cv2.VideoWriter_fourcc(*'mp4v'), fps, (new_width, new_height))\n",
        "\n",
        "# Process each frame in the video\n",
        "while video.isOpened():\n",
        "    ret, frame = video.read()\n",
        "\n",
        "    if not ret:\n",
        "        break\n",
        "\n",
        "    # Resize the frame to 50% of its original size\n",
        "    resized_frame = cv2.resize(frame, (new_width, new_height))\n",
        "\n",
        "    # Write the resized frame to the output video\n",
        "    output_video.write(resized_frame)\n",
        "\n",
        "# Release the resources\n",
        "video.release()\n",
        "output_video.release()\n"
      ],
      "metadata": {
        "id": "c9XRRsNw2qzs"
      },
      "execution_count": 3,
      "outputs": []
    }
  ]
}